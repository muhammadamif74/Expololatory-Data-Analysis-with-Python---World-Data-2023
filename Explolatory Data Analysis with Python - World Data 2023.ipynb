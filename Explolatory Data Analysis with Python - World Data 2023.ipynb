{
 "cells": [
  {
   "cell_type": "code",
   "execution_count": null,
   "id": "d3792ac5",
   "metadata": {},
   "outputs": [],
   "source": [
    "#Mid-Term Data Analyst\n",
    "\n",
    "# import pandas, seaborn, matplotlib\n",
    "\n",
    "import pandas as pd\n",
    "import numpy as np\n",
    "import seaborn as sns\n",
    "import matplotlib.pyplot as plt\n",
    "import folium \n",
    "import plotly.express as px\n",
    "import plotly.graph_objects as go\n",
    "from plotly.subplots import make_subplots\n",
    "\n",
    "from sklearn.preprocessing import MinMaxScaler\n",
    "import warnings\n",
    "\n",
    "# Filter or ignore specific warning messages\n",
    "warnings.filterwarnings(\"ignore\")\n"
   ]
  },
  {
   "cell_type": "markdown",
   "id": "4b15f5a8",
   "metadata": {},
   "source": [
    "import pandas as pd: Mengimpor pustaka Pandas untuk melakukan manipulasi dan analisis data menggunakan DataFrame. \n",
    "\n",
    "import numpy as np: Mengimpor pustaka NumPy untuk operasi numerik dan array multidimensi.\n",
    "\n",
    "import seaborn as sns: Mengimpor pustaka Seaborn untuk visualisasi data yang berbasis pada pustaka Matplotlib. \n",
    "\n",
    "import matplotlib.pyplot as plt: Mengimpor modul pyplot dari pustaka Matplotlib untuk menghasilkan grafik dan visualisasi data.\n",
    "\n",
    "import folium: Mengimpor pustaka Folium untuk membuat peta interaktif menggunakan data geografis. \n",
    "\n",
    "import plotly.express as px: Mengimpor modul express dari pustaka Plotly untuk visualisasi data interaktif dengan sintaks yang lebih sederhana.\n",
    "\n",
    "import plotly.graph_objects as go: Mengimpor modul graph_objects dari pustaka Plotly untuk visualisasi data dengan kontrol lebih lanjut.\n",
    "\n",
    "from plotly.subplots import make_subplots: Mengimpor fungsi make_subplots dari plotly.subplots untuk membuat subplot dalam visualisasi Plotly.\n",
    "\n",
    "from sklearn.preprocessing import MinMaxScaler: Mengimpor MinMaxScaler dari pustaka scikit-learn. MinMaxScaler adalah salah satu metode untuk melakukan penskalaan fitur (feature scaling) agar fitur-fitur memiliki rentang nilai yang sama.\n",
    "\n",
    "warnings.filterwarnings(\"ignore\"): Pengaturan untuk menyaring atau mengabaikan pesan peringatan tertentu yang mungkin muncul selama eksekusi kode."
   ]
  },
  {
   "cell_type": "code",
   "execution_count": null,
   "id": "3c9f0d56",
   "metadata": {},
   "outputs": [],
   "source": []
  },
  {
   "cell_type": "code",
   "execution_count": null,
   "id": "43f1453f",
   "metadata": {},
   "outputs": [],
   "source": [
    "#install library\n",
    "!pip install -U dataprep\n",
    "\n",
    "!pip install folium"
   ]
  },
  {
   "cell_type": "markdown",
   "id": "fc65f6ea",
   "metadata": {},
   "source": [
    "!pip install -U dataprep: menginstal atau meng-upgrade pustaka dataprep, sebuah pustaka yang menyediakan beragam utilitas untuk melakukan persiapan dan pembersihan data sebelum analisis.\n",
    "\n",
    "!pip install folium:  folium adalah pustaka Python yang digunakan untuk membuat peta interaktif dengan mudah. Pustaka ini memanfaatkan pustaka JavaScript Leaflet.js untuk menghasilkan peta berbasis HTML yang dapat diinteraksikan oleh pengguna. Anda dapat menambahkan berbagai elemen pada peta, seperti penanda (marker), poligon, garis, dan informasi lainnya, serta dapat berinteraksi dengan peta secara langsung melalui elemen-elemen tersebut."
   ]
  },
  {
   "cell_type": "code",
   "execution_count": null,
   "id": "735ad60f",
   "metadata": {},
   "outputs": [],
   "source": [
    "#import library\n",
    "from dataprep.eda import plot,plot_missing, plot_correlation, plot_diff, create_report\n"
   ]
  },
  {
   "cell_type": "code",
   "execution_count": null,
   "id": "dd1ca9ea",
   "metadata": {},
   "outputs": [],
   "source": [
    "# import file csv\n",
    "\n",
    "df=pd.read_csv(r\"C:\\Users\\AMIF\\OneDrive\\Documents\\College\\GENERASI GIGIH 3.0\\archive (3)\\world-data-2023.csv\")\n",
    "df\n"
   ]
  },
  {
   "cell_type": "code",
   "execution_count": null,
   "id": "ffd7f05b",
   "metadata": {},
   "outputs": [],
   "source": [
    "pd.set_option('display.float_format',lambda x: '%.2f' % x)"
   ]
  },
  {
   "cell_type": "code",
   "execution_count": null,
   "id": "128e382e",
   "metadata": {},
   "outputs": [],
   "source": [
    "df.describe()"
   ]
  },
  {
   "cell_type": "code",
   "execution_count": null,
   "id": "0c26d29b",
   "metadata": {},
   "outputs": [],
   "source": [
    "df.info()"
   ]
  },
  {
   "cell_type": "markdown",
   "id": "186035fd",
   "metadata": {},
   "source": [
    "Mengetahui tipe data dari setiap kolom"
   ]
  },
  {
   "cell_type": "code",
   "execution_count": null,
   "id": "a6bd8f92",
   "metadata": {},
   "outputs": [],
   "source": [
    "plot(df)"
   ]
  },
  {
   "cell_type": "markdown",
   "id": "a20c09ad",
   "metadata": {},
   "source": [
    "Mengetahui Datasets Insights dan Statistics"
   ]
  },
  {
   "cell_type": "code",
   "execution_count": null,
   "id": "bc4f3447",
   "metadata": {},
   "outputs": [],
   "source": [
    "plot_missing(df)"
   ]
  },
  {
   "cell_type": "markdown",
   "id": "7462acc5",
   "metadata": {},
   "source": [
    "Mengetahui Jumlah Missing Statistics "
   ]
  },
  {
   "cell_type": "code",
   "execution_count": null,
   "id": "1c9fc407",
   "metadata": {},
   "outputs": [],
   "source": [
    "plot_correlation(df)"
   ]
  },
  {
   "cell_type": "markdown",
   "id": "6115aef1",
   "metadata": {},
   "source": [
    "Mengetahui stats, korelasi dengan menggunakan metod-metode korelasi"
   ]
  },
  {
   "cell_type": "code",
   "execution_count": null,
   "id": "a4fb377e",
   "metadata": {},
   "outputs": [],
   "source": [
    "map = folium.Map(location=[0, 0], zoom_start=3.3,tiles='stamentoner')\n",
    "\n",
    "# Markers for each country\n",
    "for index, row in df.iterrows():\n",
    "    if pd.notnull(row['Latitude']) and pd.notnull(row['Longitude']):\n",
    "        folium.Marker([row['Latitude'], row['Longitude']], popup=row['Country']).add_to(map)\n",
    "map"
   ]
  },
  {
   "cell_type": "markdown",
   "id": "8baef323",
   "metadata": {},
   "source": [
    "Mengetahui penyebaran lokasi negara dengan Map"
   ]
  },
  {
   "cell_type": "code",
   "execution_count": null,
   "id": "46053e4b",
   "metadata": {},
   "outputs": [],
   "source": [
    "# Percentage of missing data in features\n",
    "cols_null_percent = df.isnull().mean() * 100\n",
    "cols_with_null = cols_null_percent[cols_null_percent > 0].sort_values(ascending=False)\n",
    "cols = list(cols_with_null.index)\n",
    "display(cols_with_null)"
   ]
  },
  {
   "cell_type": "markdown",
   "id": "085e5207",
   "metadata": {},
   "source": [
    "Mengetahui persentase missing data"
   ]
  },
  {
   "cell_type": "code",
   "execution_count": null,
   "id": "ae93fb99",
   "metadata": {},
   "outputs": [],
   "source": [
    "# Replace missing values with 0 \n",
    "df = df.fillna(0)\n",
    "df.isnull().sum()"
   ]
  },
  {
   "cell_type": "markdown",
   "id": "1945651c",
   "metadata": {},
   "source": [
    "Mengganti missing value dengan nilai 0 "
   ]
  },
  {
   "cell_type": "code",
   "execution_count": null,
   "id": "95ee9e2e",
   "metadata": {},
   "outputs": [],
   "source": [
    "#Changing data type from str to float\n",
    "\n",
    "column_to_float=['Density\\n(P/Km2)', 'Agricultural Land( %)','Land Area(Km2)',\n",
    "                 'Birth Rate', 'Co2-Emissions', 'Forested Area (%)',\n",
    "                 'CPI', 'CPI Change (%)', 'Fertility Rate', 'Gasoline Price','GDP',\n",
    "                 'Gross primary education enrollment (%)', \"Armed Forces size\",\n",
    "                 'Gross tertiary education enrollment (%)', 'Infant mortality',\n",
    "                 'Life expectancy', 'Maternal mortality ratio','Minimum wage', \n",
    "                 'Out of pocket health expenditure','Physicians per thousand', \n",
    "                 'Population','Population: Labor force participation (%)', \n",
    "                 'Tax revenue (%)','Total tax rate', 'Unemployment rate', 'Urban_population']\n",
    "\n",
    "for column in column_to_float:\n",
    "    df[column]=df[column].astype(str)\n",
    "    df[column]=df[column].str.replace(\",\",\"\")\n",
    "    df[column]=df[column].str.replace(\"$\",\"\")\n",
    "    df[column]=df[column].str.replace(\"%\",\"\").astype(float)\n",
    "\n",
    "print(df.dtypes,\"\\n\")\n",
    "df.head()"
   ]
  },
  {
   "cell_type": "markdown",
   "id": "d1bdadf8",
   "metadata": {},
   "source": [
    "Mengganti tipe data menjadi float agar mempermudahkan fungsi agregat"
   ]
  },
  {
   "cell_type": "code",
   "execution_count": null,
   "id": "b5bd7111",
   "metadata": {},
   "outputs": [],
   "source": [
    "#Create New Variables\n",
    "\n",
    "df['Agricultural Land(Km2)']=df['Agricultural Land( %)']*df['Land Area(Km2)']/100\n",
    "df['Forested Area(Km2)']=df['Forested Area (%)']*df['Land Area(Km2)']/100\n",
    "df['GDP per capita']=df['GDP']/df['Population']\n",
    "df['Co2-Emissions per capita']=df['Co2-Emissions']/df['Population']\n",
    "df[\"Forested Area\"] = df[\"Forested Area (%)\"] * df[\"Land Area(Km2)\"]\n",
    "\n",
    "# Top 20 countries with the highest unemployment rate\n",
    "country_unemployment_max = df.groupby(by='Country', as_index=False)['Unemployment rate'].value_counts().nlargest(20, 'Unemployment rate')\n",
    "# Top 20 countries with the lowest unemployment rate\n",
    "country_unemployment_min = df.groupby(by='Country', as_index=False)['Unemployment rate'].value_counts().nsmallest(20,'Unemployment rate')"
   ]
  },
  {
   "cell_type": "markdown",
   "id": "43b9ad32",
   "metadata": {},
   "source": [
    "Membuat variabel atau perhitungan baru"
   ]
  },
  {
   "cell_type": "code",
   "execution_count": null,
   "id": "6446e267",
   "metadata": {},
   "outputs": [],
   "source": [
    "#Checking if there is any duplicated values or no \n",
    "\n",
    "if df.duplicated().any():\n",
    "    print(\"There are duplicated values in countries_2023 DataFrame.\")\n",
    "else:\n",
    "    print(\"There are no duplicated values in countries_2023 DataFrame.\")"
   ]
  },
  {
   "cell_type": "markdown",
   "id": "de401926",
   "metadata": {},
   "source": [
    "Mengecek apakah ada nilai yang duplikat atau sama"
   ]
  },
  {
   "cell_type": "code",
   "execution_count": null,
   "id": "4ec4cb0e",
   "metadata": {},
   "outputs": [],
   "source": [
    "#Highest Density per Country \n",
    "\n",
    "df.loc[df['Density\\n(P/Km2)'].idxmax(), ['Country', 'Density\\n(P/Km2)']]"
   ]
  },
  {
   "cell_type": "markdown",
   "id": "44ffeee9",
   "metadata": {},
   "source": [
    "Mengetahui Negara yang memiliki kepadatan paling tinggi"
   ]
  },
  {
   "cell_type": "code",
   "execution_count": null,
   "id": "7a43cefc",
   "metadata": {},
   "outputs": [],
   "source": [
    "#Lowest Density per Country \n",
    "#Menggunakan Syntax ini karena nilai paling kecil bernilai missing value('0')\n",
    "\n",
    "filtered_df = df[df['Density\\n(P/Km2)'] > 0]\n",
    "min_index = filtered_df['Density\\n(P/Km2)'].idxmin()\n",
    "min_population_data = df.loc[min_index, ['Country', 'Density\\n(P/Km2)']]\n",
    "print(min_population_data)\n"
   ]
  },
  {
   "cell_type": "markdown",
   "id": "c3b8cc8c",
   "metadata": {},
   "source": [
    "Mengetahui Negara yang memiliki kepadatan paling kecil"
   ]
  },
  {
   "cell_type": "code",
   "execution_count": null,
   "id": "e08e4247",
   "metadata": {},
   "outputs": [],
   "source": [
    "#Highest Birth Rate per Country \n",
    "df.loc[df['Birth Rate'].idxmax(), ['Country', 'Birth Rate']]"
   ]
  },
  {
   "cell_type": "markdown",
   "id": "dc5952e4",
   "metadata": {},
   "source": [
    "Mengetahui Negara yang memiliki kelahiran paling tinggi"
   ]
  },
  {
   "cell_type": "code",
   "execution_count": null,
   "id": "55189bad",
   "metadata": {},
   "outputs": [],
   "source": [
    "#Lowest Birth Rate per Country \n",
    "#Menggunakan Syntax ini karena nilai paling kecil bernilai missing value('0')\n",
    "\n",
    "filtered_df = df[df['Birth Rate'] > 0]\n",
    "min_index = filtered_df['Birth Rate'].idxmin()\n",
    "min_population_data = df.loc[min_index, ['Country', 'Birth Rate']]\n",
    "print(min_population_data)\n"
   ]
  },
  {
   "cell_type": "markdown",
   "id": "81e9a7e5",
   "metadata": {},
   "source": [
    "Mengetahui Negara yang memiliki kelahiran paling rendah"
   ]
  },
  {
   "cell_type": "code",
   "execution_count": null,
   "id": "4b49d3c2",
   "metadata": {},
   "outputs": [],
   "source": [
    "#Highest Forested Area Percentage per Country \n",
    "df.loc[df['Forested Area (%)'].idxmax(), ['Country','Forested Area (%)']]"
   ]
  },
  {
   "cell_type": "markdown",
   "id": "fadcd39f",
   "metadata": {},
   "source": [
    "Mengetahui Negara yang memiliki luas hutan paling tinggi"
   ]
  },
  {
   "cell_type": "code",
   "execution_count": null,
   "id": "9ce4a9f2",
   "metadata": {},
   "outputs": [],
   "source": [
    "#Lowest Forested Area Percentage per Country \n",
    "#Menggunakan Syntax ini karena nilai paling kecil bernilai missing value('0')\n",
    "\n",
    "filtered_df = df[df['Forested Area (%)'] > 0]\n",
    "min_index = filtered_df['Forested Area (%)'].idxmin()\n",
    "min_population_data = df.loc[min_index, ['Country', 'Forested Area (%)']]\n",
    "print(min_population_data)\n"
   ]
  },
  {
   "cell_type": "markdown",
   "id": "8d7cd023",
   "metadata": {},
   "source": [
    "Mengetahui Negara yang memiliki luas hutan paling rendah"
   ]
  },
  {
   "cell_type": "code",
   "execution_count": null,
   "id": "26d95ed7",
   "metadata": {},
   "outputs": [],
   "source": [
    "#Highest Population per Country \n",
    "df.loc[df['Forested Area (%)'].idxmax(), ['Country','Forested Area (%)']]"
   ]
  },
  {
   "cell_type": "markdown",
   "id": "d517f687",
   "metadata": {},
   "source": [
    "Mengetahui Negara yang memiliki jumlah populasi paling tinggi"
   ]
  },
  {
   "cell_type": "code",
   "execution_count": null,
   "id": "7cd6b8be",
   "metadata": {},
   "outputs": [],
   "source": [
    "#Lowest Population per Country \n",
    "#Menggunakan Syntax ini karena nilai paling kecil bernilai missing value('0')\n",
    "\n",
    "filtered_df = df[df['Population'] > 0]\n",
    "min_index = filtered_df['Population'].idxmin()\n",
    "min_population_data = df.loc[min_index, ['Country', 'Population']]\n",
    "print(min_population_data)\n"
   ]
  },
  {
   "cell_type": "markdown",
   "id": "4d6b49d0",
   "metadata": {},
   "source": [
    "Mengetahui Negara yang memiliki jumlah populasi paling rendah"
   ]
  },
  {
   "cell_type": "code",
   "execution_count": null,
   "id": "c58aa69a",
   "metadata": {},
   "outputs": [],
   "source": [
    "#Highest Life Expectancy per Country\n",
    "df.loc[df['Life expectancy'].idxmax(), ['Country','Life expectancy']]"
   ]
  },
  {
   "cell_type": "markdown",
   "id": "1139d11e",
   "metadata": {},
   "source": [
    "Mengetahui Negara yang memiliki tingkat perkiraan jumlah tahun hidup paling tinggi"
   ]
  },
  {
   "cell_type": "code",
   "execution_count": null,
   "id": "f28ec662",
   "metadata": {},
   "outputs": [],
   "source": [
    "#Lowest Life Expectancy per Country\n",
    "#Menggunakan Syntax ini karena nilai paling kecil bernilai missing value('0')\n",
    "filtered_df = df[df['Life expectancy'] > 0]\n",
    "min_index = filtered_df['Life expectancy'].idxmin()\n",
    "min_population_data = df.loc[min_index, ['Country', 'Life expectancy']]\n",
    "print(min_population_data)"
   ]
  },
  {
   "cell_type": "markdown",
   "id": "09b37d61",
   "metadata": {},
   "source": [
    "Mengetahui Negara yang memiliki tingkat perkiraan jumlah tahun hidup paling rendah"
   ]
  },
  {
   "cell_type": "code",
   "execution_count": null,
   "id": "cdb087df",
   "metadata": {},
   "outputs": [],
   "source": [
    "#Land Area vs Agricultural Area\n",
    "\n",
    "country_by_land = df.sort_values(by='Land Area(Km2)',ascending=False).head(20)\n",
    "\n",
    "fig=px.scatter(country_by_land,x=\"Land Area(Km2)\", y=\"Agricultural Land(Km2)\",\n",
    "               size=\"Agricultural Land( %)\",\n",
    "               color=\"Country\",)\n",
    "\n",
    "# Enable interactive legend functionality\n",
    "fig.update_layout(legend=dict(itemclick='toggleothers'))\n",
    "\n",
    "# Set the chart title and axis labels\n",
    "fig.update_layout(title_text='Land Area vs Agricultural Area')\n",
    "\n",
    "#Tampil Grafik\n",
    "fig.show()"
   ]
  },
  {
   "cell_type": "markdown",
   "id": "1be55ebf",
   "metadata": {},
   "source": [
    "Membandingkan luas area dengan luas pertanian dari berbagai negara"
   ]
  },
  {
   "cell_type": "code",
   "execution_count": null,
   "id": "4c501dbf",
   "metadata": {},
   "outputs": [],
   "source": [
    "#Land Area vs Forest Area\n",
    "fig=px.scatter(country_by_land,x=\"Land Area(Km2)\", y=\"Forested Area(Km2)\",\n",
    "               size=\"Forested Area (%)\",\n",
    "               color=\"Country\",)\n",
    "\n",
    "# Enable interactive legend functionality\n",
    "fig.update_layout(legend=dict(itemclick='toggleothers'))\n",
    "\n",
    "# Set the chart title and axis labels\n",
    "fig.update_layout(title_text='Land Area vs Forest Area')\n",
    "\n",
    "fig.show()"
   ]
  },
  {
   "cell_type": "markdown",
   "id": "0598ba4e",
   "metadata": {},
   "source": [
    "Membandingkan luas area dengan luas hutan dari berbagai negara"
   ]
  },
  {
   "cell_type": "code",
   "execution_count": null,
   "id": "17521fe6",
   "metadata": {},
   "outputs": [],
   "source": [
    "country_by_gdp = df.sort_values(by='GDP',ascending=False).head(20)\n",
    "\n",
    "fig=make_subplots(rows=2, cols=1)\n",
    "fig.add_trace(go.Scatter(\n",
    "            name=\"GDP per capita\",\n",
    "            x=country_by_gdp[\"Country\"], \n",
    "            y=country_by_gdp[\"GDP per capita\"],\n",
    "            mode='lines',\n",
    "            showlegend=True,\n",
    "            marker=dict(\n",
    "                opacity=0.5,\n",
    "                showscale=False,\n",
    "            )),row=1,col=1,\n",
    "        )\n",
    "\n",
    "fig.add_trace(go.Scatter(\n",
    "            name=\"CO2-Emissions\",\n",
    "            x=country_by_gdp[\"Country\"], \n",
    "            y=country_by_gdp[\"Co2-Emissions\"],\n",
    "            mode='lines',\n",
    "            showlegend=True,\n",
    "            marker=dict(\n",
    "                opacity=0.5,\n",
    "                showscale=False,\n",
    "            )),row=2,col=1,\n",
    "        )\n",
    "\n",
    "# Hide x-axis labels of the first subplot\n",
    "fig.update_xaxes(showticklabels=False, row=1, col=1)\n",
    "\n",
    "fig.show()"
   ]
  },
  {
   "cell_type": "markdown",
   "id": "26ce0b58",
   "metadata": {},
   "source": [
    "Grafik GDP Per Capita dan Co2 Emission dari 20 tertinggi"
   ]
  },
  {
   "cell_type": "code",
   "execution_count": null,
   "id": "f7fd1af0",
   "metadata": {},
   "outputs": [],
   "source": [
    "fig=px.bar(\n",
    "    country_unemployment_max,\n",
    "    y='Country',\n",
    "    x='Unemployment rate',\n",
    "    text_auto=True,\n",
    "    color='Country',\n",
    "    orientation='h',\n",
    "    title='Top 20 countries with the highest unemployment rate',\n",
    "    height=800,\n",
    "    width=1200)\n",
    "\n",
    "fig.show(\"notebook\")"
   ]
  },
  {
   "cell_type": "code",
   "execution_count": null,
   "id": "0bbfa54e",
   "metadata": {},
   "outputs": [],
   "source": [
    "largest_city = df.groupby(by='Largest city', as_index=False)['Unemployment rate'].value_counts().nlargest(10, 'Unemployment rate')\n",
    "\n",
    "fig = px.bar(largest_city,\n",
    "            y='Largest city',\n",
    "            x='Unemployment rate',\n",
    "            orientation='h',\n",
    "            color='Largest city',\n",
    "            title='Top 10 Largest cities',\n",
    "            text_auto=True)\n",
    "\n",
    "fig.show(\"notebook\")"
   ]
  },
  {
   "cell_type": "code",
   "execution_count": null,
   "id": "524e6c63",
   "metadata": {},
   "outputs": [],
   "source": [
    "#Top 10 Official Languages\n",
    "\n",
    "languege_top_10 = df[\"Official language\"].value_counts().head(10)\n",
    "sns.barplot(y=languege_top_10.index, x=languege_top_10.values)\n",
    "plt.title(\"Top 10 Official Languages\")\n",
    "\n",
    "plt.show()\n"
   ]
  },
  {
   "cell_type": "code",
   "execution_count": null,
   "id": "1ba1a9b2",
   "metadata": {},
   "outputs": [],
   "source": [
    "# Let's build a feature correlation matrix\n",
    "plt.figure(figsize=(32, 28), facecolor='gray')\n",
    "sns.heatmap(df.corr(),\n",
    "            annot=True,\n",
    "            fmt='.1g',\n",
    "            cmap='coolwarm',\n",
    "            linecolor='blue',\n",
    "            linewidths=1)\n",
    "plt.title('Feature correlation matrix',\n",
    "          fontsize=18,\n",
    "          fontweight='bold');"
   ]
  },
  {
   "cell_type": "markdown",
   "id": "dca5b7a4",
   "metadata": {},
   "source": [
    "Angka-angka yang terlihat di dalam kotak-kotak pada heatmap adalah nilai korelasi antara dua fitur. Nilai korelasi berkisar dari -1 hingga 1, yang menggambarkan arah dan tingkat hubungan antara fitur. Jika nilainya mendekati 1, itu menunjukkan korelasi positif yang kuat, sedangkan jika mendekati -1, itu menunjukkan korelasi negatif yang kuat. Jika nilai korelasinya mendekati 0, itu menunjukkan korelasi yang lemah atau tidak ada korelasi."
   ]
  },
  {
   "cell_type": "code",
   "execution_count": null,
   "id": "3fa31581",
   "metadata": {},
   "outputs": [],
   "source": [
    "#Investigate the relationship between agricultural land and food security.\n",
    "country_unemployment_max = df.groupby(by='Country', as_index=False)['Agricultural Land( %)'].value_counts().nlargest(10, 'Agricultural Land( %)')\n",
    "\n",
    "fig=px.bar(\n",
    "    country_unemployment_max,\n",
    "    y='Country',\n",
    "    x='Agricultural Land( %)',\n",
    "    text_auto=True,\n",
    "    color='Country',\n",
    "    orientation='h',\n",
    "    title='Top 10 Countries with the highest Agricultural Land',\n",
    "    height=600,\n",
    "    width=1000)\n",
    "\n",
    "fig.show(\"notebook\")"
   ]
  },
  {
   "cell_type": "code",
   "execution_count": null,
   "id": "1d842a0e",
   "metadata": {},
   "outputs": [],
   "source": [
    "#Examine carbon dioxide emissions and their impact on climate change\n",
    "\n",
    "country_unemployment_max = df.groupby(by='Country', as_index=False)['Co2-Emissions'].value_counts().nlargest(10, 'Co2-Emissions')\n",
    "\n",
    "fig=px.bar(\n",
    "    country_unemployment_max,\n",
    "    y='Country',\n",
    "    x='Co2-Emissions',\n",
    "    text_auto=True,\n",
    "    color='Country',\n",
    "    orientation='h',\n",
    "    title='Top 10 Countries with the highest Co2-Emissions',\n",
    "    height=600,\n",
    "    width=1000)\n",
    "\n",
    "fig.show(\"notebook\")"
   ]
  },
  {
   "cell_type": "code",
   "execution_count": null,
   "id": "cd083e04",
   "metadata": {},
   "outputs": [],
   "source": [
    "#Explore correlations between economic indicators such as GDP and various socio-economic factors.\n",
    "\n",
    "sns.scatterplot(data=df, x='GDP', y='Unemployment rate',hue=\"Unemployment rate\")\n",
    "corr_coeff = df['GDP'].corr(df['Unemployment rate'])\n",
    "corr_coeff_rounded = round(corr_coeff, 3)\n",
    "print(corr_coeff_rounded)\n",
    "\n"
   ]
  },
  {
   "cell_type": "markdown",
   "id": "ccf7c33d",
   "metadata": {},
   "source": [
    "Hasil korelasi sebesar 0.059 menandakan bahwa hubungan antara 'GDP' (Indeks Pembangunan Manusia) dan 'Unemployment rate' (tingkat pengangguran) memiliki korelasi yang sangat lemah. \n",
    "\n",
    "Angka korelasi sebesar 0.059 sangat mendekati nol, yang berarti tidak ada hubungan linier yang signifikan antara kedua variabel tersebut.\n",
    "\n",
    "Artinya, tingkat pengangguran suatu negara tidak memiliki hubungan yang signifikan \n",
    "dengan Indeks Pembangunan Manusia (GDP) negara tersebut."
   ]
  },
  {
   "cell_type": "code",
   "execution_count": null,
   "id": "b8b81278",
   "metadata": {},
   "outputs": [],
   "source": [
    "sns.scatterplot(data=df, x='Gross primary education enrollment (%)', y='Gross tertiary education enrollment (%)',hue=\"Gross tertiary education enrollment (%)\")\n",
    "corr_coeff = df['Gross primary education enrollment (%)'].corr(df['Gross tertiary education enrollment (%)'])\n",
    "corr_coeff_rounded = round(corr_coeff, 3)\n",
    "print(corr_coeff_rounded)\n",
    "\n"
   ]
  },
  {
   "cell_type": "markdown",
   "id": "02efb813",
   "metadata": {},
   "source": [
    "Nilai korelasi sebesar 0.213 menunjukkan adanya hubungan positif yang lemah antara persentase pendaftaran pendidikan dasar \n",
    "(Gross primary education enrollment) dengan persentase pendaftaran pendidikan tinggi (Gross tertiary education enrollment).\n",
    "\n",
    "Korelasi sebesar 0.213 mengindikasikan bahwa terdapat tren positif yang lemah di antara kedua variabel tersebut. \n",
    "\n",
    "Artinya, ketika persentase pendaftaran pendidikan dasar meningkat, cenderung juga meningkatkan persentase pendaftaran \n",
    "pendidikan tinggi, dan sebaliknya, ketika persentase pendaftaran pendidikan dasar menurun, \n",
    "cenderung juga menurunkan persentase pendaftaran pendidikan tinggi."
   ]
  },
  {
   "cell_type": "code",
   "execution_count": null,
   "id": "b5710f8b",
   "metadata": {},
   "outputs": [],
   "source": [
    "#Study labor market dynamics through indicators such as labor force participation and unemployment rates.\n",
    "\n",
    "sns.scatterplot(data=df, x='Population: Labor force participation (%)', y='Unemployment rate',hue=\"Unemployment rate\")\n",
    "corr_coeff = df['Population: Labor force participation (%)'].corr(df['Unemployment rate'])\n",
    "corr_coeff_rounded = round(corr_coeff, 3)\n",
    "print(corr_coeff_rounded)\n"
   ]
  },
  {
   "cell_type": "markdown",
   "id": "43d44f42",
   "metadata": {},
   "source": [
    "Hasil nilai korelasi sebesar 0.181 yang dihasilkan dari perhitungan ini menunjukkan adanya korelasi positif yang lemah antara dua variabel, yaitu \"Population: Labor force participation (%)\" (Persentase Partisipasi Angkatan Kerja dalam Penduduk) dan \"Unemployment rate\" (Tingkat Pengangguran)."
   ]
  },
  {
   "cell_type": "code",
   "execution_count": null,
   "id": "fa5a17c6",
   "metadata": {},
   "outputs": [],
   "source": [
    "#Investigate the role of taxation and its impact on economic development.\n",
    "\n",
    "sns.scatterplot(data=df, x='Tax revenue (%)', y='Total tax rate',hue=\"Total tax rate\")\n",
    "corr_coeff = df['Tax revenue (%)'].corr(df['Total tax rate'])\n",
    "corr_coeff_rounded = round(corr_coeff, 3)\n",
    "print(corr_coeff_rounded)\n"
   ]
  },
  {
   "cell_type": "markdown",
   "id": "f458d67b",
   "metadata": {},
   "source": [
    "Nilai korelasi 0.052 yang dihasilkan dari perhitungan tersebut menunjukkan bahwa hubungan antara persentase pendapatan pajak (Tax revenue (%)) dan tingkat pajak total (Total tax rate) sangat lemah atau hampir tidak ada korelasi antara keduanya"
   ]
  },
  {
   "cell_type": "code",
   "execution_count": null,
   "id": "489a9085",
   "metadata": {},
   "outputs": [],
   "source": [
    "#Correlation Co2-Emission with Forested Area\n",
    "\n",
    "sns.scatterplot(data=df, x='Co2-Emissions', y='Forested Area',hue=\"Forested Area\")\n",
    "corr_coeff = df['Co2-Emissions'].corr(df['Forested Area'])\n",
    "corr_coeff_rounded = round(corr_coeff, 3)\n",
    "print(corr_coeff_rounded)\n"
   ]
  },
  {
   "cell_type": "markdown",
   "id": "d68d189f",
   "metadata": {},
   "source": [
    "\n",
    "Nilai korelasi sebesar 0.419 yang dihasilkan dari perhitungan tersebut menunjukkan bahwa terdapat hubungan positif yang lemah antara emisi CO2 ('Co2-Emissions') dan luas hutan ('Forested Area') dalam dataset yang digunakan."
   ]
  }
 ],
 "metadata": {
  "kernelspec": {
   "display_name": "Python 3 (ipykernel)",
   "language": "python",
   "name": "python3"
  },
  "language_info": {
   "codemirror_mode": {
    "name": "ipython",
    "version": 3
   },
   "file_extension": ".py",
   "mimetype": "text/x-python",
   "name": "python",
   "nbconvert_exporter": "python",
   "pygments_lexer": "ipython3",
   "version": "3.10.9"
  }
 },
 "nbformat": 4,
 "nbformat_minor": 5
}
